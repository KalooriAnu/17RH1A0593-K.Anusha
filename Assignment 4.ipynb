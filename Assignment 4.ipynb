{
 "cells": [
  {
   "cell_type": "code",
   "execution_count": null,
   "metadata": {},
   "outputs": [],
   "source": [
    "Assignment Questions"
   ]
  },
  {
   "cell_type": "code",
   "execution_count": null,
   "metadata": {},
   "outputs": [],
   "source": [
    "1.Using Numpy to generate an array of 25 random numbers sampled from a standard normal distribution"
   ]
  },
  {
   "cell_type": "code",
   "execution_count": 1,
   "metadata": {},
   "outputs": [
    {
     "data": {
      "text/plain": [
       "array([0.42951892, 0.83937862, 0.36154961, 0.25169826, 0.81448817,\n",
       "       0.22757046, 0.591568  , 0.44961986, 0.72342953, 0.07687409,\n",
       "       0.23715562, 0.10768246, 0.97964811, 0.84861838, 0.70676166,\n",
       "       0.76618057, 0.64046084, 0.52186007, 0.88989076, 0.66328702,\n",
       "       0.32150149, 0.07458928, 0.01972102, 0.19305488, 0.90297615])"
      ]
     },
     "execution_count": 1,
     "metadata": {},
     "output_type": "execute_result"
    }
   ],
   "source": [
    "import numpy as np\n",
    "np.random.rand(25)"
   ]
  },
  {
   "cell_type": "code",
   "execution_count": null,
   "metadata": {},
   "outputs": [],
   "source": [
    "2.Create an array of 20 linear spaced points between 0 and 1"
   ]
  },
  {
   "cell_type": "code",
   "execution_count": 3,
   "metadata": {},
   "outputs": [
    {
     "data": {
      "text/plain": [
       "array([0.        , 0.05263158, 0.10526316, 0.15789474, 0.21052632,\n",
       "       0.26315789, 0.31578947, 0.36842105, 0.42105263, 0.47368421,\n",
       "       0.52631579, 0.57894737, 0.63157895, 0.68421053, 0.73684211,\n",
       "       0.78947368, 0.84210526, 0.89473684, 0.94736842, 1.        ])"
      ]
     },
     "execution_count": 3,
     "metadata": {},
     "output_type": "execute_result"
    }
   ],
   "source": [
    "np.linspace(0, 1, 20)"
   ]
  },
  {
   "cell_type": "code",
   "execution_count": null,
   "metadata": {},
   "outputs": [],
   "source": [
    "3.Declare a numpy array of values from 1 to 100 and make it into 10*10 matrix"
   ]
  },
  {
   "cell_type": "code",
   "execution_count": 4,
   "metadata": {},
   "outputs": [
    {
     "data": {
      "text/plain": [
       "array([[ 0,  1,  2,  3,  4,  5,  6,  7,  8,  9],\n",
       "       [10, 11, 12, 13, 14, 15, 16, 17, 18, 19],\n",
       "       [20, 21, 22, 23, 24, 25, 26, 27, 28, 29],\n",
       "       [30, 31, 32, 33, 34, 35, 36, 37, 38, 39],\n",
       "       [40, 41, 42, 43, 44, 45, 46, 47, 48, 49],\n",
       "       [50, 51, 52, 53, 54, 55, 56, 57, 58, 59],\n",
       "       [60, 61, 62, 63, 64, 65, 66, 67, 68, 69],\n",
       "       [70, 71, 72, 73, 74, 75, 76, 77, 78, 79],\n",
       "       [80, 81, 82, 83, 84, 85, 86, 87, 88, 89],\n",
       "       [90, 91, 92, 93, 94, 95, 96, 97, 98, 99]])"
      ]
     },
     "execution_count": 4,
     "metadata": {},
     "output_type": "execute_result"
    }
   ],
   "source": [
    "import numpy as np\n",
    "array = np.arange(100).reshape(10,10)\n",
    "array"
   ]
  },
  {
   "cell_type": "code",
   "execution_count": null,
   "metadata": {},
   "outputs": [],
   "source": [
    "4.Using the previously defind matrix print rows 1,5,6"
   ]
  },
  {
   "cell_type": "code",
   "execution_count": 5,
   "metadata": {},
   "outputs": [
    {
     "name": "stdout",
     "output_type": "stream",
     "text": [
      "[[10 11 12 13 14 15 16 17 18 19]\n",
      " [50 51 52 53 54 55 56 57 58 59]\n",
      " [60 61 62 63 64 65 66 67 68 69]]\n"
     ]
    }
   ],
   "source": [
    "print(array[[1,5,6]])"
   ]
  },
  {
   "cell_type": "code",
   "execution_count": null,
   "metadata": {},
   "outputs": [],
   "source": [
    "5.Using the previously defined matrix print elements from 3rd row to 10th row"
   ]
  },
  {
   "cell_type": "code",
   "execution_count": 6,
   "metadata": {},
   "outputs": [
    {
     "name": "stdout",
     "output_type": "stream",
     "text": [
      "[[30 31 32 33 34 35 36 37 38 39]\n",
      " [40 41 42 43 44 45 46 47 48 49]\n",
      " [50 51 52 53 54 55 56 57 58 59]\n",
      " [60 61 62 63 64 65 66 67 68 69]\n",
      " [70 71 72 73 74 75 76 77 78 79]\n",
      " [80 81 82 83 84 85 86 87 88 89]\n",
      " [90 91 92 93 94 95 96 97 98 99]]\n"
     ]
    }
   ],
   "source": [
    "print(array[3:])"
   ]
  },
  {
   "cell_type": "code",
   "execution_count": null,
   "metadata": {},
   "outputs": [],
   "source": [
    "6.Using the previously defined matrix print all the elements from 4th row to 8th row"
   ]
  },
  {
   "cell_type": "code",
   "execution_count": 7,
   "metadata": {},
   "outputs": [
    {
     "name": "stdout",
     "output_type": "stream",
     "text": [
      "[[ 3  4  5  6  7]\n",
      " [13 14 15 16 17]\n",
      " [23 24 25 26 27]\n",
      " [33 34 35 36 37]\n",
      " [43 44 45 46 47]\n",
      " [53 54 55 56 57]\n",
      " [63 64 65 66 67]\n",
      " [73 74 75 76 77]\n",
      " [83 84 85 86 87]\n",
      " [93 94 95 96 97]]\n"
     ]
    }
   ],
   "source": [
    "print(array[0:10,3:8])"
   ]
  },
  {
   "cell_type": "code",
   "execution_count": null,
   "metadata": {},
   "outputs": [],
   "source": [
    "7.Using the same matrix print values from 3rd row 2nd column to 5th row 8th column"
   ]
  },
  {
   "cell_type": "code",
   "execution_count": 8,
   "metadata": {},
   "outputs": [
    {
     "name": "stdout",
     "output_type": "stream",
     "text": [
      "[[21 22 23 24 25 26 27]\n",
      " [31 32 33 34 35 36 37]\n",
      " [41 42 43 44 45 46 47]]\n"
     ]
    }
   ],
   "source": [
    "print(array[2:5,1:8])"
   ]
  },
  {
   "cell_type": "code",
   "execution_count": null,
   "metadata": {},
   "outputs": [],
   "source": [
    "8.Write a code to generate random 1000 numbers each in range (0,1) such that the count of all random points like are almost same"
   ]
  },
  {
   "cell_type": "code",
   "execution_count": 9,
   "metadata": {},
   "outputs": [
    {
     "data": {
      "text/plain": [
       "array([0.01396053, 0.98897114, 0.73444254, 0.56974755, 0.83341848,\n",
       "       0.36736093, 0.75895563, 0.55980075, 0.04355711, 0.90469001,\n",
       "       0.64802117, 0.84117218, 0.84214888, 0.06064596, 0.94532356,\n",
       "       0.72150446, 0.01964926, 0.29510753, 0.93693316, 0.93899894,\n",
       "       0.49387278, 0.66089664, 0.10726318, 0.0939635 , 0.01736276,\n",
       "       0.8217772 , 0.20113399, 0.12534199, 0.41760868, 0.16817302,\n",
       "       0.66425835, 0.00602307, 0.43661621, 0.37714472, 0.54041498,\n",
       "       0.17443768, 0.31001777, 0.21328062, 0.2966284 , 0.52584878,\n",
       "       0.61686896, 0.10455304, 0.00679126, 0.38293024, 0.25779894,\n",
       "       0.93926423, 0.5937985 , 0.49271421, 0.91519024, 0.80654339,\n",
       "       0.34533005, 0.64755665, 0.25046138, 0.58348511, 0.64553508,\n",
       "       0.05313907, 0.46961598, 0.65667984, 0.88360165, 0.88908988,\n",
       "       0.75652437, 0.87509854, 0.06763371, 0.14894583, 0.26858137,\n",
       "       0.79475185, 0.06515381, 0.34016754, 0.86224104, 0.9065075 ,\n",
       "       0.46736951, 0.68158367, 0.51979988, 0.83118649, 0.45610849,\n",
       "       0.38425753, 0.71186285, 0.1453183 , 0.19916919, 0.13935703,\n",
       "       0.80505948, 0.65173334, 0.29596192, 0.48816335, 0.24761789,\n",
       "       0.16952996, 0.73290905, 0.61008981, 0.0918243 , 0.87118515,\n",
       "       0.10696101, 0.92212146, 0.03137065, 0.3649598 , 0.82798919,\n",
       "       0.43375311, 0.90386704, 0.15575766, 0.55061741, 0.14414977])"
      ]
     },
     "execution_count": 9,
     "metadata": {},
     "output_type": "execute_result"
    }
   ],
   "source": [
    "np.random.rand(100)"
   ]
  },
  {
   "cell_type": "code",
   "execution_count": null,
   "metadata": {},
   "outputs": [],
   "source": [
    "9.Write the commands to get standard deviation, mean,median,mode for a given vector"
   ]
  },
  {
   "cell_type": "code",
   "execution_count": 10,
   "metadata": {},
   "outputs": [
    {
     "data": {
      "text/plain": [
       "4.5"
      ]
     },
     "execution_count": 10,
     "metadata": {},
     "output_type": "execute_result"
    }
   ],
   "source": [
    "a = np.array([[7, 2], [5, 4]])\n",
    "np.mean(a)"
   ]
  },
  {
   "cell_type": "code",
   "execution_count": 11,
   "metadata": {},
   "outputs": [
    {
     "data": {
      "text/plain": [
       "4.5"
      ]
     },
     "execution_count": 11,
     "metadata": {},
     "output_type": "execute_result"
    }
   ],
   "source": [
    "np.median(a)"
   ]
  },
  {
   "cell_type": "code",
   "execution_count": 12,
   "metadata": {},
   "outputs": [
    {
     "data": {
      "text/plain": [
       "1.8027756377319946"
      ]
     },
     "execution_count": 12,
     "metadata": {},
     "output_type": "execute_result"
    }
   ],
   "source": [
    "np.std(a)"
   ]
  },
  {
   "cell_type": "code",
   "execution_count": 13,
   "metadata": {},
   "outputs": [
    {
     "data": {
      "text/plain": [
       "array([[7, 1, 1, 7],\n",
       "       [9, 4, 3, 8],\n",
       "       [6, 1, 9, 7],\n",
       "       [9, 7, 2, 5],\n",
       "       [5, 1, 5, 9]])"
      ]
     },
     "execution_count": 13,
     "metadata": {},
     "output_type": "execute_result"
    }
   ],
   "source": [
    "a = np.array([[7, 1, 1, 7],\n",
    "             [9, 4, 3, 8],\n",
    "             [6, 1, 9, 7],\n",
    "             [9, 7, 2, 5],\n",
    "             [5, 1, 5, 9]])\n",
    "a"
   ]
  },
  {
   "cell_type": "code",
   "execution_count": 14,
   "metadata": {},
   "outputs": [
    {
     "data": {
      "text/plain": [
       "ModeResult(mode=array([[9, 1, 1, 7]]), count=array([[2, 3, 1, 2]]))"
      ]
     },
     "execution_count": 14,
     "metadata": {},
     "output_type": "execute_result"
    }
   ],
   "source": [
    "from scipy import stats\n",
    "stats.mode(a)"
   ]
  },
  {
   "cell_type": "code",
   "execution_count": null,
   "metadata": {},
   "outputs": [],
   "source": []
  }
 ],
 "metadata": {
  "kernelspec": {
   "display_name": "Python 3",
   "language": "python",
   "name": "python3"
  },
  "language_info": {
   "codemirror_mode": {
    "name": "ipython",
    "version": 3
   },
   "file_extension": ".py",
   "mimetype": "text/x-python",
   "name": "python",
   "nbconvert_exporter": "python",
   "pygments_lexer": "ipython3",
   "version": "3.7.4"
  }
 },
 "nbformat": 4,
 "nbformat_minor": 2
}
